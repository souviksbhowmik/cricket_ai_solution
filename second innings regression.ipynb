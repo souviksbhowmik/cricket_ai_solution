{
 "cells": [
  {
   "cell_type": "code",
   "execution_count": 1,
   "metadata": {},
   "outputs": [],
   "source": [
    "!export PYTHONPATH=.:$PYTHONPATH"
   ]
  },
  {
   "cell_type": "code",
   "execution_count": 45,
   "metadata": {},
   "outputs": [],
   "source": [
    "from odi.feature_engg import feature_extractor as fe\n",
    "from odi.feature_engg import util as cricutil\n",
    "from odi.preprocessing import rank\n",
    "from odi.retrain import create_train_test_ci as ctt\n",
    "from odi.model_util import odi_util as outil\n",
    "import pandas as pd\n",
    "from datetime import datetime\n",
    "import math\n",
    "import numpy as np\n",
    "from tqdm.notebook import tqdm\n",
    "import os\n",
    "\n",
    "from sklearn.feature_selection import SequentialFeatureSelector\n",
    "from sklearn.linear_model import LinearRegression,LogisticRegression\n",
    "from sklearn.preprocessing import StandardScaler,PolynomialFeatures\n",
    "from sklearn.svm import SVC\n",
    "from sklearn.svm import SVR\n",
    "from sklearn.pipeline import Pipeline\n",
    "\n",
    "\n",
    "from sklearn.metrics import mean_absolute_error,mean_absolute_percentage_error,accuracy_score"
   ]
  },
  {
   "cell_type": "code",
   "execution_count": 46,
   "metadata": {},
   "outputs": [],
   "source": [
    "import pickle"
   ]
  },
  {
   "cell_type": "code",
   "execution_count": 47,
   "metadata": {},
   "outputs": [],
   "source": [
    "train_x=pickle.load(open(os.path.join(ctt.TRAIN_TEST_DIR,ctt.second_innings_base_train_x),'rb'))\n",
    "train_y=pickle.load(open(os.path.join(ctt.TRAIN_TEST_DIR,ctt.second_innings_base_train_y),'rb'))\n",
    "\n",
    "test_x=pickle.load(open(os.path.join(ctt.TRAIN_TEST_DIR,ctt.second_innings_base_test_x),'rb'))\n",
    "test_y=pickle.load(open(os.path.join(ctt.TRAIN_TEST_DIR,ctt.second_innings_base_test_y),'rb'))\n",
    "\n",
    "cols = pickle.load(open(os.path.join(outil.DEV_DIR, ctt.second_innings_base_columns), 'rb'))"
   ]
  },
  {
   "cell_type": "code",
   "execution_count": 48,
   "metadata": {},
   "outputs": [
    {
     "data": {
      "text/plain": [
       "(441, 57)"
      ]
     },
     "execution_count": 48,
     "metadata": {},
     "output_type": "execute_result"
    }
   ],
   "source": [
    "train_x.shape"
   ]
  },
  {
   "cell_type": "code",
   "execution_count": 49,
   "metadata": {},
   "outputs": [
    {
     "data": {
      "text/plain": [
       "(75, 57)"
      ]
     },
     "execution_count": 49,
     "metadata": {},
     "output_type": "execute_result"
    }
   ],
   "source": [
    "test_x.shape"
   ]
  },
  {
   "cell_type": "code",
   "execution_count": 50,
   "metadata": {},
   "outputs": [],
   "source": [
    "from sklearn.feature_selection import SequentialFeatureSelector\n",
    "from sklearn.linear_model import LinearRegression,LogisticRegression\n",
    "from sklearn.preprocessing import StandardScaler\n",
    "from sklearn.pipeline import Pipeline"
   ]
  },
  {
   "cell_type": "code",
   "execution_count": 51,
   "metadata": {},
   "outputs": [],
   "source": [
    "# pipe = Pipeline([('scaler', StandardScaler()), ('regression', LinearRegression())])\n",
    "# sfs = SequentialFeatureSelector(pipe, n_features_to_select=10)\n",
    "# sfs.fit(train_x, train_y)"
   ]
  },
  {
   "cell_type": "code",
   "execution_count": 52,
   "metadata": {},
   "outputs": [],
   "source": [
    "train_df = pd.DataFrame(train_x)\n",
    "train_df.columns= cols\n",
    "train_df['win']=train_y\n",
    "\n",
    "test_df = pd.DataFrame(test_x)\n",
    "test_df.columns = cols\n",
    "test_df['win']=test_y"
   ]
  },
  {
   "cell_type": "code",
   "execution_count": 53,
   "metadata": {},
   "outputs": [
    {
     "data": {
      "text/plain": [
       "team_score                                       0\n",
       "opponent_score                                   0\n",
       "opponent_base                                    0\n",
       "opponent_trend                                   0\n",
       "opponent_trend_predict                           0\n",
       "opponent_mean                                    0\n",
       "location_base                                    0\n",
       "location_trend                                   0\n",
       "location_trend_predict                           0\n",
       "location_mean                                    0\n",
       "current_base                                     0\n",
       "current_trend                                    0\n",
       "current_trend_predict                            0\n",
       "current_mean                                     0\n",
       "run_factor                                       0\n",
       "score_sum_7                                      0\n",
       "score_sum_6                                      0\n",
       "score_sum_5                                      0\n",
       "score_sum_4                                      0\n",
       "score_sum_3                                      0\n",
       "score_max                                        0\n",
       "score_sum_weighted_by_correlation                0\n",
       "score_sum_weighted_by_contribution               0\n",
       "score_sum_weighted_by_effectiveness              0\n",
       "score_sum_weighted_by_log                        0\n",
       "score_mean_weighted_by_correlation               0\n",
       "score_mean_weighted_by_contribution              5\n",
       "score_mean_weighted_by_effectiveness             5\n",
       "score_mean_weighted_by_log                       0\n",
       "score_sum_weighted_by_correlation_4              0\n",
       "score_sum_weighted_by_contribution_4             0\n",
       "score_sum_weighted_by_effectiveness_4            0\n",
       "score_sum_weighted_by_log_4                      0\n",
       "score_mean_weighted_by_correlation_4             0\n",
       "score_mean_weighted_by_contribution_4            5\n",
       "score_mean_weighted_by_effectiveness_4           5\n",
       "score_mean_weighted_by_log_4                     0\n",
       "score_mean_7                                     0\n",
       "score_mean_6                                     0\n",
       "score_mean_5                                     0\n",
       "score_mean_4                                     0\n",
       "score_mean_3                                     0\n",
       "player_1                                         0\n",
       "player_2                                         0\n",
       "player_3                                         0\n",
       "player_4                                         0\n",
       "player_5                                         0\n",
       "player_6                                         0\n",
       "player_7                                         0\n",
       "bowler_score_sum                                 0\n",
       "bowler_score_mean                                0\n",
       "bowler_score_max                                 0\n",
       "bowler_score_sum_weighted_by_contribution        0\n",
       "bowler_score_mean_weighted_by_contribution       8\n",
       "bowler_score_sum_weighted_by_wr_contribution     0\n",
       "bowler_score_mean_weighted_by_wr_contribution    8\n",
       "target_score                                     0\n",
       "win                                              0\n",
       "dtype: int64"
      ]
     },
     "execution_count": 53,
     "metadata": {},
     "output_type": "execute_result"
    }
   ],
   "source": [
    "train_df.isnull().sum()"
   ]
  },
  {
   "cell_type": "code",
   "execution_count": 54,
   "metadata": {},
   "outputs": [],
   "source": [
    "train_df.dropna(inplace=True)\n",
    "test_df.dropna(inplace=True)"
   ]
  },
  {
   "cell_type": "code",
   "execution_count": 55,
   "metadata": {},
   "outputs": [],
   "source": [
    "#np.array(train_df)"
   ]
  },
  {
   "cell_type": "code",
   "execution_count": 56,
   "metadata": {},
   "outputs": [
    {
     "data": {
      "text/plain": [
       "SequentialFeatureSelector(estimator=Pipeline(steps=[('scaler',\n",
       "                                                     StandardScaler()),\n",
       "                                                    ('regression',\n",
       "                                                     LinearRegression())]),\n",
       "                          n_features_to_select=10)"
      ]
     },
     "execution_count": 56,
     "metadata": {},
     "output_type": "execute_result"
    }
   ],
   "source": [
    "pipe = Pipeline([('scaler', StandardScaler()), ('regression', LinearRegression())])\n",
    "sfs = SequentialFeatureSelector(pipe, n_features_to_select=10)\n",
    "sfs.fit(train_df.drop(columns='win'), train_df['win'])"
   ]
  },
  {
   "cell_type": "code",
   "execution_count": 57,
   "metadata": {},
   "outputs": [
    {
     "name": "stdout",
     "output_type": "stream",
     "text": [
      "=======overall improtance=========\n",
      "team_score\n",
      "current_trend_predict\n",
      "score_sum_weighted_by_contribution\n",
      "score_sum_weighted_by_effectiveness\n",
      "score_mean_weighted_by_correlation_4\n",
      "bowler_score_sum\n",
      "bowler_score_mean\n",
      "bowler_score_sum_weighted_by_wr_contribution\n",
      "bowler_score_mean_weighted_by_wr_contribution\n",
      "target_score\n"
     ]
    }
   ],
   "source": [
    "print(\"=======overall improtance=========\")\n",
    "selected_cols = []\n",
    "for idx in np.where(sfs.get_support())[0]:\n",
    "    print(cols[idx])\n",
    "    selected_cols.append(cols[idx])"
   ]
  },
  {
   "cell_type": "code",
   "execution_count": 58,
   "metadata": {},
   "outputs": [],
   "source": [
    "train_x_selected = np.array(train_df[selected_cols])\n",
    "test_x_selected = np.array(test_df[selected_cols])\n",
    "\n",
    "train_y_selected = np.array(train_df['win'])\n",
    "test_y_selected = np.array(test_df['win'])"
   ]
  },
  {
   "cell_type": "code",
   "execution_count": 69,
   "metadata": {},
   "outputs": [],
   "source": [
    "train_pipe = Pipeline([('scaler', StandardScaler()),('polynom',PolynomialFeatures(1)), ('regression', LogisticRegression())])\n",
    "#train_pipe = Pipeline([('scaler', StandardScaler()),('polynom',PolynomialFeatures(1)), ('svc',SVR(C=0.5, epsilon=0.2))])\n",
    "\n"
   ]
  },
  {
   "cell_type": "code",
   "execution_count": 70,
   "metadata": {},
   "outputs": [
    {
     "data": {
      "text/plain": [
       "Pipeline(steps=[('scaler', StandardScaler()),\n",
       "                ('polynom', PolynomialFeatures(degree=1)),\n",
       "                ('regression', LogisticRegression())])"
      ]
     },
     "execution_count": 70,
     "metadata": {},
     "output_type": "execute_result"
    }
   ],
   "source": [
    "train_pipe.fit(train_x_selected,train_y_selected)"
   ]
  },
  {
   "cell_type": "code",
   "execution_count": 71,
   "metadata": {},
   "outputs": [],
   "source": [
    "train_predict = train_pipe.predict(train_x_selected)\n",
    "test_predict = train_pipe.predict(test_x_selected)"
   ]
  },
  {
   "cell_type": "code",
   "execution_count": 72,
   "metadata": {},
   "outputs": [
    {
     "data": {
      "text/plain": [
       "0.7663551401869159"
      ]
     },
     "execution_count": 72,
     "metadata": {},
     "output_type": "execute_result"
    }
   ],
   "source": [
    "accuracy_score(train_y_selected,train_predict)\n",
    "\n"
   ]
  },
  {
   "cell_type": "code",
   "execution_count": 73,
   "metadata": {},
   "outputs": [
    {
     "data": {
      "text/plain": [
       "0.72"
      ]
     },
     "execution_count": 73,
     "metadata": {},
     "output_type": "execute_result"
    }
   ],
   "source": [
    "accuracy_score(test_y_selected,test_predict)"
   ]
  },
  {
   "cell_type": "code",
   "execution_count": 74,
   "metadata": {},
   "outputs": [],
   "source": [
    "# SS_Residual = sum((train_y_selected-train_predict)**2)    \n",
    "# SS_Total = sum((train_y_selected-np.mean(train_y_selected))**2) \n",
    "# r_squared = 1 - (float(SS_Residual))/SS_Total\n",
    "# adjusted_r_squared = 1 - (1-r_squared)*(len(train_y_selected)-1)/(len(train_y_selected)-train_x_selected.shape[1]-1)\n",
    "\n",
    "# r_squared,adjusted_r_squared\n",
    "\n"
   ]
  },
  {
   "cell_type": "code",
   "execution_count": 75,
   "metadata": {},
   "outputs": [],
   "source": [
    "train_x_selected_all = np.array(train_df[cols])\n",
    "test_x_selected_all = np.array(test_df[cols])\n",
    "\n",
    "train_y_selected = np.array(train_df['win'])\n",
    "test_y_selected = np.array(test_df['win'])"
   ]
  },
  {
   "cell_type": "code",
   "execution_count": 76,
   "metadata": {},
   "outputs": [],
   "source": [
    "train_pipe_all = Pipeline([('scaler', StandardScaler()),('polynom',PolynomialFeatures(1)), ('regression', LogisticRegression())])"
   ]
  },
  {
   "cell_type": "code",
   "execution_count": 77,
   "metadata": {},
   "outputs": [
    {
     "data": {
      "text/plain": [
       "Pipeline(steps=[('scaler', StandardScaler()),\n",
       "                ('polynom', PolynomialFeatures(degree=1)),\n",
       "                ('regression', LogisticRegression())])"
      ]
     },
     "execution_count": 77,
     "metadata": {},
     "output_type": "execute_result"
    }
   ],
   "source": [
    "train_pipe_all.fit(train_x_selected_all,train_y_selected)"
   ]
  },
  {
   "cell_type": "code",
   "execution_count": 78,
   "metadata": {},
   "outputs": [],
   "source": [
    "train_predict_all = train_pipe_all.predict(train_x_selected_all)\n",
    "test_predict_all = train_pipe_all.predict(test_x_selected_all)"
   ]
  },
  {
   "cell_type": "code",
   "execution_count": 79,
   "metadata": {},
   "outputs": [
    {
     "data": {
      "text/plain": [
       "0.7710280373831776"
      ]
     },
     "execution_count": 79,
     "metadata": {},
     "output_type": "execute_result"
    }
   ],
   "source": [
    "accuracy_score(train_y_selected,train_predict_all)"
   ]
  },
  {
   "cell_type": "code",
   "execution_count": 80,
   "metadata": {},
   "outputs": [
    {
     "data": {
      "text/plain": [
       "0.6933333333333334"
      ]
     },
     "execution_count": 80,
     "metadata": {},
     "output_type": "execute_result"
    }
   ],
   "source": [
    "accuracy_score(test_y_selected,test_predict_all)"
   ]
  },
  {
   "cell_type": "code",
   "execution_count": 215,
   "metadata": {},
   "outputs": [
    {
     "data": {
      "text/plain": [
       "['team_score',\n",
       " 'opponent_score',\n",
       " 'opponent_base',\n",
       " 'opponent_trend',\n",
       " 'opponent_trend_predict',\n",
       " 'opponent_mean',\n",
       " 'location_base',\n",
       " 'location_trend',\n",
       " 'location_trend_predict',\n",
       " 'location_mean',\n",
       " 'current_base',\n",
       " 'current_trend',\n",
       " 'current_trend_predict',\n",
       " 'current_mean',\n",
       " 'run_factor',\n",
       " 'score_sum_7',\n",
       " 'score_sum_6',\n",
       " 'score_sum_5',\n",
       " 'score_sum_4',\n",
       " 'score_sum_3',\n",
       " 'score_max',\n",
       " 'score_sum_weighted_by_correlation',\n",
       " 'score_sum_weighted_by_contribution',\n",
       " 'score_sum_weighted_by_effectiveness',\n",
       " 'score_sum_weighted_by_log',\n",
       " 'score_mean_weighted_by_correlation',\n",
       " 'score_mean_weighted_by_contribution',\n",
       " 'score_mean_weighted_by_effectiveness',\n",
       " 'score_mean_weighted_by_log',\n",
       " 'score_sum_weighted_by_correlation_4',\n",
       " 'score_sum_weighted_by_contribution_4',\n",
       " 'score_sum_weighted_by_effectiveness_4',\n",
       " 'score_sum_weighted_by_log_4',\n",
       " 'score_mean_weighted_by_correlation_4',\n",
       " 'score_mean_weighted_by_contribution_4',\n",
       " 'score_mean_weighted_by_effectiveness_4',\n",
       " 'score_mean_weighted_by_log_4',\n",
       " 'score_mean_7',\n",
       " 'score_mean_6',\n",
       " 'score_mean_5',\n",
       " 'score_mean_4',\n",
       " 'score_mean_3',\n",
       " 'player_1',\n",
       " 'player_2',\n",
       " 'player_3',\n",
       " 'player_4',\n",
       " 'player_5',\n",
       " 'player_6',\n",
       " 'player_7',\n",
       " 'bowler_score_sum',\n",
       " 'bowler_score_mean',\n",
       " 'bowler_score_max',\n",
       " 'bowler_score_sum_weighted_by_contribution',\n",
       " 'bowler_score_mean_weighted_by_contribution',\n",
       " 'bowler_score_sum_weighted_by_wr_contribution',\n",
       " 'bowler_score_mean_weighted_by_wr_contribution']"
      ]
     },
     "execution_count": 215,
     "metadata": {},
     "output_type": "execute_result"
    }
   ],
   "source": [
    "cols"
   ]
  },
  {
   "cell_type": "code",
   "execution_count": 223,
   "metadata": {},
   "outputs": [],
   "source": [
    "# handpicked_cols = ['score_sum_weighted_by_correlation','score_sum_weighted_by_contribution',\n",
    "#                    'team_score','bowler_score_sum',\n",
    "#                   'location_base','current_trend_predict','current_mean']\n",
    "\n",
    "handpicked_cols = ['team_score','opponent_score','score_sum_weighted_by_correlation','score_sum_weighted_by_contribution',\n",
    "                   'score_sum_weighted_by_effectiveness','bowler_score_sum_weighted_by_contribution','bowler_score_sum_weighted_by_wr_contribution',\n",
    "                   'team_score','bowler_score_sum',\n",
    "                  'location_base','current_trend_predict','current_mean']\n",
    "\n"
   ]
  },
  {
   "cell_type": "code",
   "execution_count": 224,
   "metadata": {},
   "outputs": [],
   "source": [
    "train_x_selected_hp = np.array(train_df[handpicked_cols])\n",
    "test_x_selected_hp = np.array(test_df[handpicked_cols])\n",
    "\n",
    "train_y_selected = np.array(train_df['runs'])\n",
    "test_y_selected = np.array(test_df['runs'])"
   ]
  },
  {
   "cell_type": "code",
   "execution_count": 225,
   "metadata": {},
   "outputs": [],
   "source": [
    "train_pipe_hp = Pipeline([('scaler', StandardScaler()), ('polynom',PolynomialFeatures(1)),('regression', LinearRegression())])"
   ]
  },
  {
   "cell_type": "code",
   "execution_count": 226,
   "metadata": {},
   "outputs": [
    {
     "data": {
      "text/plain": [
       "Pipeline(steps=[('scaler', StandardScaler()),\n",
       "                ('polynom', PolynomialFeatures(degree=1)),\n",
       "                ('regression', LinearRegression())])"
      ]
     },
     "execution_count": 226,
     "metadata": {},
     "output_type": "execute_result"
    }
   ],
   "source": [
    "train_pipe_hp.fit(train_x_selected_hp,train_y_selected)"
   ]
  },
  {
   "cell_type": "code",
   "execution_count": 227,
   "metadata": {},
   "outputs": [],
   "source": [
    "train_predict_hp = train_pipe_hp.predict(train_x_selected_hp)\n",
    "test_predict_hp = train_pipe_hp.predict(test_x_selected_hp)"
   ]
  },
  {
   "cell_type": "code",
   "execution_count": 228,
   "metadata": {},
   "outputs": [
    {
     "data": {
      "text/plain": [
       "(44.106140827044705, 0.19740297483154506)"
      ]
     },
     "execution_count": 228,
     "metadata": {},
     "output_type": "execute_result"
    }
   ],
   "source": [
    "mean_absolute_error(train_y_selected,train_predict_hp), mean_absolute_percentage_error(train_y_selected,train_predict_hp)\n",
    "\n"
   ]
  },
  {
   "cell_type": "code",
   "execution_count": 229,
   "metadata": {},
   "outputs": [
    {
     "data": {
      "text/plain": [
       "(53.42038480330737, 0.22505873059786413)"
      ]
     },
     "execution_count": 229,
     "metadata": {},
     "output_type": "execute_result"
    }
   ],
   "source": [
    "mean_absolute_error(test_y_selected,test_predict_hp), mean_absolute_percentage_error(test_y_selected,test_predict_hp)\n",
    "\n"
   ]
  },
  {
   "cell_type": "code",
   "execution_count": 81,
   "metadata": {},
   "outputs": [],
   "source": [
    "tq1 = np.quantile(train_df['team_score'],0.25)\n",
    "tq2 = np.quantile(train_df['team_score'],0.50)\n",
    "tq3 = np.quantile(train_df['team_score'],0.75)"
   ]
  },
  {
   "cell_type": "code",
   "execution_count": 82,
   "metadata": {},
   "outputs": [],
   "source": [
    "train_df_q1 = train_df[train_df['team_score']<tq1]\n",
    "train_df_q2 = train_df[train_df['team_score']<tq2]\n",
    "train_df_q3 = train_df[train_df['team_score']<tq3]\n",
    "train_df_q4 = train_df[train_df['team_score']>=tq3]\n",
    "\n",
    "test_df_q1 = test_df[test_df['team_score']<tq1]\n",
    "test_df_q2 = test_df[test_df['team_score']<tq2]\n",
    "test_df_q3 = test_df[test_df['team_score']<tq3]\n",
    "test_df_q4 = test_df[test_df['team_score']>=tq3]"
   ]
  },
  {
   "cell_type": "code",
   "execution_count": 86,
   "metadata": {},
   "outputs": [],
   "source": [
    "train_pipe_q1 = Pipeline([('scaler', StandardScaler()),('polynom',PolynomialFeatures(1)), ('cls', LogisticRegression())])\n",
    "train_pipe_q2 = Pipeline([('scaler', StandardScaler()),('polynom',PolynomialFeatures(1)), ('slc', LogisticRegression())])\n",
    "train_pipe_q3 = Pipeline([('scaler', StandardScaler()),('polynom',PolynomialFeatures(1)), ('cls', LogisticRegression())])\n",
    "train_pipe_q4 = Pipeline([('scaler', StandardScaler()),('polynom',PolynomialFeatures(1)), ('cls', LogisticRegression())])\n",
    "\n"
   ]
  },
  {
   "cell_type": "code",
   "execution_count": 85,
   "metadata": {},
   "outputs": [],
   "source": [
    "train_x_q1 = np.array(train_df_q1[cols])\n",
    "test_x_q1 = np.array(test_df_q1[cols])\n",
    "train_y_q1 = np.array(train_df_q1['win'])\n",
    "test_y_q1 = np.array(test_df_q1['win'])\n",
    "\n",
    "train_x_q2 = np.array(train_df_q2[cols])\n",
    "test_x_q2 = np.array(test_df_q2[cols])\n",
    "train_y_q2 = np.array(train_df_q2['win'])\n",
    "test_y_q2 = np.array(test_df_q2['win'])\n",
    "\n",
    "train_x_q3 = np.array(train_df_q3[cols])\n",
    "test_x_q3 = np.array(test_df_q3[cols])\n",
    "train_y_q3 = np.array(train_df_q3['win'])\n",
    "test_y_q3 = np.array(test_df_q3['win'])\n",
    "\n",
    "train_x_q4 = np.array(train_df_q4[cols])\n",
    "test_x_q4 = np.array(train_df_q4[cols])\n",
    "train_y_q4 = np.array(train_df_q4['win'])\n",
    "test_y_q4 = np.array(train_df_q4['win'])"
   ]
  },
  {
   "cell_type": "code",
   "execution_count": 87,
   "metadata": {},
   "outputs": [
    {
     "data": {
      "text/plain": [
       "Pipeline(steps=[('scaler', StandardScaler()),\n",
       "                ('polynom', PolynomialFeatures(degree=1)),\n",
       "                ('cls', LogisticRegression())])"
      ]
     },
     "execution_count": 87,
     "metadata": {},
     "output_type": "execute_result"
    }
   ],
   "source": [
    "train_pipe_q1.fit(train_x_q1,train_y_q1)\n",
    "train_pipe_q2.fit(train_x_q2,train_y_q2)\n",
    "train_pipe_q3.fit(train_x_q3,train_y_q3)\n",
    "train_pipe_q4.fit(train_x_q4,train_y_q4)"
   ]
  },
  {
   "cell_type": "code",
   "execution_count": 89,
   "metadata": {},
   "outputs": [],
   "source": [
    "train_predict_q1 = train_pipe_q1.predict(train_x_q1)\n",
    "train_predict_q2 = train_pipe_q2.predict(train_x_q2)\n",
    "train_predict_q3 = train_pipe_q3.predict(train_x_q3)\n",
    "train_predict_q4 = train_pipe_q4.predict(train_x_q4)\n",
    "\n",
    "test_predict_q1 = train_pipe_q1.predict(test_x_q1)\n",
    "test_predict_q2 = train_pipe_q2.predict(test_x_q2)\n",
    "test_predict_q3 = train_pipe_q3.predict(test_x_q3)\n",
    "test_predict_q4 = train_pipe_q4.predict(test_x_q4)"
   ]
  },
  {
   "cell_type": "code",
   "execution_count": 90,
   "metadata": {},
   "outputs": [
    {
     "data": {
      "text/plain": [
       "(0.9245283018867925, 0.9245283018867925)"
      ]
     },
     "execution_count": 90,
     "metadata": {},
     "output_type": "execute_result"
    }
   ],
   "source": [
    "accuracy_score(train_y_q1,train_predict_q1), accuracy_score(test_y_q1,test_predict_q1)"
   ]
  },
  {
   "cell_type": "code",
   "execution_count": 91,
   "metadata": {},
   "outputs": [
    {
     "data": {
      "text/plain": [
       "(0.8364485981308412, 0.8364485981308412)"
      ]
     },
     "execution_count": 91,
     "metadata": {},
     "output_type": "execute_result"
    }
   ],
   "source": [
    "accuracy_score(train_y_q2,train_predict_q2), accuracy_score(test_y_q2,test_predict_q2)"
   ]
  },
  {
   "cell_type": "code",
   "execution_count": 92,
   "metadata": {},
   "outputs": [
    {
     "data": {
      "text/plain": [
       "(0.7881619937694704, 0.7881619937694704)"
      ]
     },
     "execution_count": 92,
     "metadata": {},
     "output_type": "execute_result"
    }
   ],
   "source": [
    "accuracy_score(train_y_q3,train_predict_q3), accuracy_score(test_y_q3,test_predict_q3)"
   ]
  },
  {
   "cell_type": "code",
   "execution_count": 93,
   "metadata": {},
   "outputs": [
    {
     "data": {
      "text/plain": [
       "(0.8691588785046729, 0.8691588785046729)"
      ]
     },
     "execution_count": 93,
     "metadata": {},
     "output_type": "execute_result"
    }
   ],
   "source": [
    "accuracy_score(train_y_q4,train_predict_q4), accuracy_score(test_y_q4,test_predict_q4)"
   ]
  },
  {
   "cell_type": "code",
   "execution_count": null,
   "metadata": {},
   "outputs": [],
   "source": []
  }
 ],
 "metadata": {
  "kernelspec": {
   "display_name": "tensor230",
   "language": "python",
   "name": "tensor230"
  },
  "language_info": {
   "codemirror_mode": {
    "name": "ipython",
    "version": 3
   },
   "file_extension": ".py",
   "mimetype": "text/x-python",
   "name": "python",
   "nbconvert_exporter": "python",
   "pygments_lexer": "ipython3",
   "version": "3.6.10"
  }
 },
 "nbformat": 4,
 "nbformat_minor": 4
}
