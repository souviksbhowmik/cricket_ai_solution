{
 "cells": [
  {
   "cell_type": "code",
   "execution_count": 1,
   "metadata": {},
   "outputs": [],
   "source": [
    "!export PYTHONPATH=.:$PYTHONPATH"
   ]
  },
  {
   "cell_type": "code",
   "execution_count": 2,
   "metadata": {},
   "outputs": [],
   "source": [
    "from odi.feature_engg import feature_extractor as fe\n",
    "from odi.feature_engg import util as cricutil\n",
    "from odi.preprocessing import rank\n",
    "from odi.retrain import create_train_test_ci as ctt\n",
    "from odi.model_util import odi_util as outil\n",
    "import pandas as pd\n",
    "from datetime import datetime\n",
    "import math\n",
    "import numpy as np\n",
    "from tqdm.notebook import tqdm\n",
    "import os\n",
    "\n",
    "from sklearn.feature_selection import SequentialFeatureSelector\n",
    "from sklearn.linear_model import LinearRegression,LogisticRegression\n",
    "from sklearn.preprocessing import StandardScaler,PolynomialFeatures\n",
    "from sklearn.svm import SVC\n",
    "from sklearn.svm import SVR\n",
    "from sklearn.naive_bayes import GaussianNB\n",
    "from sklearn.pipeline import Pipeline\n",
    "\n",
    "\n",
    "from sklearn.metrics import mean_absolute_error,mean_absolute_percentage_error,accuracy_score"
   ]
  },
  {
   "cell_type": "code",
   "execution_count": 3,
   "metadata": {},
   "outputs": [],
   "source": [
    "import pickle"
   ]
  },
  {
   "cell_type": "code",
   "execution_count": 85,
   "metadata": {},
   "outputs": [],
   "source": [
    "train_x=pickle.load(open(os.path.join(ctt.TRAIN_TEST_DIR,ctt.mg_train_x),'rb'))\n",
    "train_y=pickle.load(open(os.path.join(ctt.TRAIN_TEST_DIR,ctt.mg_train_y),'rb'))\n",
    "\n",
    "test_x=pickle.load(open(os.path.join(ctt.TRAIN_TEST_DIR,ctt.mg_test_x),'rb'))\n",
    "test_y=pickle.load(open(os.path.join(ctt.TRAIN_TEST_DIR,ctt.mg_test_y),'rb'))\n",
    "\n",
    "#cols = pickle.load(open(os.path.join(outil.DEV_DIR, ctt.second_innings_base_columns), 'rb'))"
   ]
  },
  {
   "cell_type": "code",
   "execution_count": 86,
   "metadata": {},
   "outputs": [],
   "source": [
    "def set_loc(row):\n",
    "    if row['team_a_loc']==1:\n",
    "        return 0\n",
    "    elif row['team_b_loc']==1:\n",
    "        return 1\n",
    "    else: \n",
    "        return 2"
   ]
  },
  {
   "cell_type": "code",
   "execution_count": 87,
   "metadata": {},
   "outputs": [],
   "source": [
    "train_x_df = pd.DataFrame(train_x)\n",
    "train_x_df.columns =['strngth','toss','team_a_loc','team_b_loc','other_loc']\n",
    "\n",
    "test_x_df = pd.DataFrame(test_x)\n",
    "test_x_df.columns =['strngth','toss','team_a_loc','team_b_loc','other_loc']\n",
    "\n",
    "train_x_df['loc'] = train_x_df.apply(set_loc,axis=1)\n",
    "test_x_df['loc'] = test_x_df.apply(set_loc,axis=1)\n",
    "\n",
    "train_x = np.array(train_x_df[['strngth','toss','loc']])\n",
    "test_x = np.array(test_x_df[['strngth','toss','loc']])\n",
    "\n"
   ]
  },
  {
   "cell_type": "code",
   "execution_count": 88,
   "metadata": {},
   "outputs": [
    {
     "data": {
      "text/plain": [
       "((288, 3), (288,))"
      ]
     },
     "execution_count": 88,
     "metadata": {},
     "output_type": "execute_result"
    }
   ],
   "source": [
    "train_x.shape,train_y.shape"
   ]
  },
  {
   "cell_type": "code",
   "execution_count": 89,
   "metadata": {},
   "outputs": [
    {
     "data": {
      "text/plain": [
       "(89, 3)"
      ]
     },
     "execution_count": 89,
     "metadata": {},
     "output_type": "execute_result"
    }
   ],
   "source": [
    "test_x.shape"
   ]
  },
  {
   "cell_type": "code",
   "execution_count": 90,
   "metadata": {},
   "outputs": [],
   "source": [
    "# from sklearn.feature_selection import SequentialFeatureSelector\n",
    "# from sklearn.linear_model import LinearRegression,LogisticRegression\n",
    "# from sklearn.preprocessing import StandardScaler\n",
    "# from sklearn.pipeline import Pipeline"
   ]
  },
  {
   "cell_type": "code",
   "execution_count": 91,
   "metadata": {},
   "outputs": [],
   "source": [
    "# pipe = Pipeline([('scaler', StandardScaler()), ('regression', LinearRegression())])\n",
    "# sfs = SequentialFeatureSelector(pipe, n_features_to_select=3)\n",
    "# sfs.fit(train_x, train_y)"
   ]
  },
  {
   "cell_type": "code",
   "execution_count": 92,
   "metadata": {},
   "outputs": [],
   "source": [
    "#pd.DataFrame(train_x)"
   ]
  },
  {
   "cell_type": "code",
   "execution_count": 110,
   "metadata": {},
   "outputs": [],
   "source": [
    "from sklearn.ensemble import GradientBoostingClassifier\n",
    "\n",
    "train_pipe = Pipeline([('polynom',PolynomialFeatures(1)), ('cls', LogisticRegression())])\n",
    "#train_pipe = Pipeline([('polynom',PolynomialFeatures(1)), ('cls', GaussianNB())])\n",
    "#train_pipe = Pipeline([('polynom',PolynomialFeatures(1)), ('svc',SVC())])\n",
    "#train_pipe = Pipeline([('polynom',PolynomialFeatures(1)), ('GBC', GradientBoostingClassifier(n_estimators=100, learning_rate=1.0,max_depth=1, random_state=0))])\n",
    "\n"
   ]
  },
  {
   "cell_type": "code",
   "execution_count": 111,
   "metadata": {},
   "outputs": [
    {
     "data": {
      "text/plain": [
       "Pipeline(steps=[('polynom', PolynomialFeatures(degree=1)),\n",
       "                ('cls', LogisticRegression())])"
      ]
     },
     "execution_count": 111,
     "metadata": {},
     "output_type": "execute_result"
    }
   ],
   "source": [
    "train_pipe.fit(train_x,train_y)"
   ]
  },
  {
   "cell_type": "code",
   "execution_count": 112,
   "metadata": {},
   "outputs": [],
   "source": [
    "train_predict = train_pipe.predict(train_x)\n",
    "test_predict = train_pipe.predict(test_x)"
   ]
  },
  {
   "cell_type": "code",
   "execution_count": 113,
   "metadata": {},
   "outputs": [
    {
     "data": {
      "text/plain": [
       "0.6006944444444444"
      ]
     },
     "execution_count": 113,
     "metadata": {},
     "output_type": "execute_result"
    }
   ],
   "source": [
    "accuracy_score(train_y,train_predict)\n",
    "\n"
   ]
  },
  {
   "cell_type": "code",
   "execution_count": 114,
   "metadata": {},
   "outputs": [
    {
     "data": {
      "text/plain": [
       "0.5955056179775281"
      ]
     },
     "execution_count": 114,
     "metadata": {},
     "output_type": "execute_result"
    }
   ],
   "source": [
    "accuracy_score(test_y,test_predict)"
   ]
  },
  {
   "cell_type": "code",
   "execution_count": 115,
   "metadata": {},
   "outputs": [
    {
     "data": {
      "text/plain": [
       "0.6666666666666666"
      ]
     },
     "execution_count": 115,
     "metadata": {},
     "output_type": "execute_result"
    }
   ],
   "source": [
    "accuracy_score(test_y[:45],test_predict[:45])"
   ]
  },
  {
   "cell_type": "code",
   "execution_count": null,
   "metadata": {},
   "outputs": [],
   "source": []
  },
  {
   "cell_type": "code",
   "execution_count": null,
   "metadata": {},
   "outputs": [],
   "source": []
  }
 ],
 "metadata": {
  "kernelspec": {
   "display_name": "tensor230",
   "language": "python",
   "name": "tensor230"
  },
  "language_info": {
   "codemirror_mode": {
    "name": "ipython",
    "version": 3
   },
   "file_extension": ".py",
   "mimetype": "text/x-python",
   "name": "python",
   "nbconvert_exporter": "python",
   "pygments_lexer": "ipython3",
   "version": "3.6.10"
  }
 },
 "nbformat": 4,
 "nbformat_minor": 4
}
